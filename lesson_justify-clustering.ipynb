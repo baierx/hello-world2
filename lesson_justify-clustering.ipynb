{
 "cells": [
  {
   "cell_type": "code",
   "execution_count": 1,
   "metadata": {},
   "outputs": [],
   "source": [
    "import pandas as pd\n",
    "from numpy import arange, asarray, linspace, cumsum, percentile, histogram\n",
    "from numpy import array, around, trapz, mean, std\n",
    "from numpy.random import normal\n",
    "import scipy\n",
    "import scipy.stats\n",
    "import matplotlib.pyplot as plt\n",
    "%matplotlib inline\n",
    "# Load data and select first column\n",
    "from matplotlib.pyplot import subplots, scatter, xlabel, ylabel, axis, figure\n",
    "\n",
    "from sklearn import datasets\n",
    "from sklearn.preprocessing import StandardScaler\n"
   ]
  },
  {
   "cell_type": "markdown",
   "metadata": {},
   "source": [
    "# Justification of Clustering\n",
    "\n",
    "Clustering assumes that there is no prior knowledge about the existence of more than one categories of data within a single dataset. I such knowledge exists it would point to supervised learning.\n",
    "\n",
    "The goal of the clustering (grouping, automated labelling) is to obtain more than one predicted labels (or label probabilities) for samples based on some distinction that is data-driven (rather than knowledge driven). So you only apply it when you have reasons to suspect that more than one labels are justified to group your data. \n",
    "\n",
    "Before we apply a specific algorithm to obtain labels we need to be aware that the clustering algorithms may yield plausible results for just about any dataset. Also we need to take into account that different algorithms search according to different criteria and results may differ depending on the algorithm chosen. So we have to answer two fundamental questions:\n",
    "\n",
    "1. Is it justified to do clustering? \n",
    "2. Which algorithm should be used?) \n",
    "\n",
    "We use synthetic data to get answers to these questions. \n",
    "\n",
    "The steps we follow are:\n",
    "\n",
    "We create data that should have a single label. Specifically we start with data that follow a single probability density distribution and generate a discrete histogram as we would do with recorded data. \n",
    "\n",
    "Then we fit different probability density functions to these test data and check the goodness of fit. Based on a quantitative criterion we decide for one distribution. Finally, we check whether the obtained fit justifies the assumption of a single label (cluster). Only if we can reject thishypothesis will we proceed to do a clustering. Incidentally, the type of distribution that best fits the data is used as a criterion to pick a clustering algorithm.\n",
    "\n",
    "When the clustering is finished we create data from the two distinct distributions that, according to the unsupervised learning, fit the data best. Then we can separate the data according to the labels and check the fit of the individual distributions. If we have improved the p-value, then this serves as assurance that the clustering was justified, i.e. the data warranted a grouping into two different groups. \n",
    "\n",
    "In this lesson, we analyse one dataset and conclude that clustering is justified. "
   ]
  },
  {
   "cell_type": "markdown",
   "metadata": {},
   "source": [
    "We start by creating data drawn from a single Gaussian distribution and plot their histogram. Before we apply any analysis, we standardise the data set to mean 0, variance 1. We plot diagrams for the articifial data and their standardised form. Note the difference in horizontal scale. \n",
    "\n",
    "Distribution fitting to data, based on the tutorial by Michael Allen:\n",
    "https://pythonhealthcare.org/2018/05/03/81-distribution-fitting-to-data/\n"
   ]
  },
  {
   "cell_type": "code",
   "execution_count": 15,
   "metadata": {},
   "outputs": [
    {
     "data": {
      "image/png": "[encoded data removed]",
      "text/plain": [
       "<Figure size 720x288 with 2 Axes>"
      ]
     },
     "metadata": {
      "needs_background": "light"
     },
     "output_type": "display_data"
    }
   ],
   "source": [
    "n = 100\n",
    "\n",
    "data_n = normal(100, 20, n)\n",
    "size = len(data_n)\n",
    "x = arange(len(data_n))\n",
    "\n",
    "sc=StandardScaler() \n",
    "\n",
    "temp = data_n.reshape (-1,1)\n",
    "\n",
    "sc.fit(temp)\n",
    "data_n_st =sc.transform(temp)\n",
    "data_n_st = data_n_st.flatten()\n",
    "del temp\n",
    "\n",
    "fig, ax = subplots(figsize=(10,4), ncols=2)\n",
    "\n",
    "\n",
    "ax[0].hist(data_n, bins=20)\n",
    "ax[1].hist(data_n_st, bins=20);\n",
    "\n",
    "ax[0].set_xlabel('Values')\n",
    "ax[0].set_ylabel('Frequency')\n",
    "ax[1].set_xlabel('Standardised Values')\n",
    "ax[1].set_ylabel('Frequency')\n",
    "\n",
    "fig.suptitle('Synthetic Data Distribution', fontsize=16);\n"
   ]
  },
  {
   "cell_type": "markdown",
   "metadata": {},
   "source": [
    "When starting with a not too small number of samples we find a plausible histogram reflecting the underlying Gaussian distribution.\n"
   ]
  },
  {
   "cell_type": "markdown",
   "metadata": {},
   "source": [
    "Now we fit three different continuous distributions to the data: the exponential distribution; the uniform distribution; and the normal distribution. This may seem trivial in the first round as we know the result already. However, we want to use the same procedure later for data that we suspect to contain multiple labels ans where we cannot be sure of the outcome. We use to two measures to qunatify the quality of fit: \n",
    "\n",
    "1. the chi-square statistics, which is the sum of the squared distances of the data from the fitted distribution. The larger it is, the worse the fit. Note that this value is not normalised.\n",
    "2. The p-value for the fit which is the probability that the data are drawn from that specific distribution. The larger it is the better the fit. It is 1 (100%) if the fit is perfect.\n"
   ]
  },
  {
   "cell_type": "code",
   "execution_count": 6,
   "metadata": {},
   "outputs": [
    {
     "name": "stdout",
     "output_type": "stream",
     "text": [
      "\n",
      "Distributions sorted by goodness of fit:\n",
      "----------------------------------------\n",
      "  Distribution   chi_square  p_value\n",
      "1         norm     5.844148  0.92542\n",
      "2      uniform   519.079487  0.00153\n",
      "0        expon  1624.527913  0.00000\n"
     ]
    }
   ],
   "source": [
    "# Set list of distributions to test\n",
    "# See https://docs.scipy.org/doc/scipy/reference/stats.html for more\n",
    "\n",
    "# Turn off code warnings (this is not recommended for routine use)\n",
    "import warnings\n",
    "warnings.filterwarnings(\"ignore\")\n",
    "\n",
    "# Set up list of candidate distributions to use\n",
    "# See https://docs.scipy.org/doc/scipy/reference/stats.html for more\n",
    "\n",
    "dist_names = [\n",
    "#               'beta',\n",
    "              'expon',\n",
    "#               'gamma',\n",
    "#               'lognorm',\n",
    "              'norm',\n",
    "#               'pearson3',\n",
    "#               'triang',\n",
    "              'uniform',\n",
    "#               'weibull_min', \n",
    "#               'weibull_max'\n",
    "             ]\n",
    "\n",
    "# Set up empty lists to stroe results\n",
    "chi_square = []\n",
    "p_values = []\n",
    "\n",
    "# Set up 50 bins for chi-square test\n",
    "# Observed data will be approximately evenly distributed across all bins\n",
    "number_bins = 51\n",
    "percentile_bins = linspace(0, 100, number_bins)\n",
    "percentile_cutoffs = percentile(data_n_st, percentile_bins)\n",
    "observed_frequency, bins = (histogram(data_n_st, bins=percentile_cutoffs))\n",
    "cum_observed_frequency = cumsum(observed_frequency)\n",
    "\n",
    "# Loop through candidate distributions\n",
    "\n",
    "for distribution in dist_names:\n",
    "    # Set up distribution and get fitted distribution parameters\n",
    "    dist = getattr(scipy.stats, distribution)\n",
    "    param = dist.fit(data_n_st)\n",
    "    \n",
    "    # Obtain the KS test P statistic, round it to 5 decimal places\n",
    "    p = scipy.stats.kstest(data_n_st, distribution, args=param)[1]\n",
    "    p = around(p, 5)\n",
    "    p_values.append(p)    \n",
    "    \n",
    "    # Get expected counts in percentile bins\n",
    "    # This is based on a 'cumulative distribution function' (cdf)\n",
    "    cdf_fitted = dist.cdf(percentile_cutoffs, *param[:-2], loc=param[-2], \n",
    "                          scale=param[-1])\n",
    "    expected_frequency = []\n",
    "    for bin in range(len(percentile_bins)-1):\n",
    "        expected_cdf_area = cdf_fitted[bin+1] - cdf_fitted[bin]\n",
    "        expected_frequency.append(expected_cdf_area)\n",
    "    \n",
    "    # calculate chi-squared\n",
    "    expected_frequency = array(expected_frequency) * size\n",
    "    cum_expected_frequency = cumsum(expected_frequency)\n",
    "    ss = sum (((cum_expected_frequency - cum_observed_frequency) ** 2) / cum_observed_frequency)\n",
    "    chi_square.append(ss)\n",
    "        \n",
    "# Collate results and sort by goodness of fit (best at top)\n",
    "\n",
    "results = pd.DataFrame()\n",
    "results['Distribution'] = dist_names\n",
    "results['chi_square'] = chi_square\n",
    "results['p_value'] = p_values\n",
    "results.sort_values(['chi_square'], inplace=True)\n",
    "    \n",
    "# Report results\n",
    "\n",
    "print ('\\nDistributions sorted by goodness of fit:')\n",
    "print ('----------------------------------------')\n",
    "print (results)\n"
   ]
  },
  {
   "cell_type": "markdown",
   "metadata": {},
   "source": [
    "The result shows: \n",
    "\n",
    "- Low chi-square value and large p-value for the normal distribution\n",
    "- High chi-square values and zero p-value for the uniform and exponential distribution.\n",
    "\n",
    "This indicates that we have reasons to approximate our data set with a normal distribution. \n",
    "\n",
    "We can now use the parameters of the above fitted distributions to plot the continuous function on top of the data.\n"
   ]
  },
  {
   "cell_type": "code",
   "execution_count": 8,
   "metadata": {},
   "outputs": [
    {
     "data": {
      "image/png": "[encoded data removed]",
      "text/plain": [
       "<Figure size 432x288 with 1 Axes>"
      ]
     },
     "metadata": {
      "needs_background": "light"
     },
     "output_type": "display_data"
    }
   ],
   "source": [
    "# Divide the observed data into bins for plotting (this can be changed)\n",
    "number_of_bins = 20\n",
    "bin_cutoffs = linspace(percentile(data_n, 0), percentile(data_n, 99),number_of_bins)\n",
    "\n",
    "# Create the plot\n",
    "fig, ax = subplots()\n",
    "\n",
    "h = ax.hist(data_n, bins = bin_cutoffs, color='0.75')\n",
    "lims = ax.get_xlim()\n",
    "\n",
    "# Get the top three distributions from the previous phase\n",
    "number_distributions_to_plot = 3\n",
    "dist_names = results['Distribution'].iloc[0:number_distributions_to_plot]\n",
    "\n",
    "# Create an empty list to stroe fitted distribution parameters\n",
    "parameters = []\n",
    "\n",
    "\n",
    "# Loop through the distributions ot get line fit and parameters\n",
    "\n",
    "for dist_name in dist_names:\n",
    "    # Set up distribution and store distribution parameters\n",
    "    dist = getattr(scipy.stats, dist_name)\n",
    "    param = dist.fit(data_n)\n",
    "    parameters.append(param)\n",
    "\n",
    "    x = arange(40, 161)\n",
    "\n",
    "    # Get line for each distribution (and scale to match observed data)\n",
    "    pdf_fitted = dist.pdf(x, *param[:-2], loc=param[-2], scale=param[-1])\n",
    "#    pdf_fitted = dist.pdf(x, *param[:-2], loc=param[-2], scale=param[-1])\n",
    "    scale_pdf = trapz (h[0], h[1][:-1]) / trapz (pdf_fitted, x)\n",
    "    pdf_fitted *= scale_pdf\n",
    "    \n",
    "    # Add the line to the plot\n",
    "    ax.plot(x, pdf_fitted, label=dist_name)\n",
    "\n",
    "    # Set the plot x axis to contain 99% of the data\n",
    "    # This can be removed, but sometimes outlier data makes the plot less clear\n",
    "#    ax.xlim(0, percentile(data_n,99))\n",
    "\n",
    "\n",
    "\n",
    "# Add legend and display plot\n",
    "ax.legend();\n",
    "# plt.show()\n"
   ]
  },
  {
   "cell_type": "markdown",
   "metadata": {},
   "source": [
    "This graph confirms visually that the normal distribution approximates the data well whereas exponential and uniform distribution are not good assumptions. \n",
    "\n",
    "Note that there are a large number of distributions to choose from and not all will give such clear cut distinctions.\n",
    "\n",
    "See https://docs.scipy.org/doc/scipy/reference/stats.html for more.\n",
    "\n",
    "Now let us import one of our data sets and and look at the distribution before applying the same fitting."
   ]
  },
  {
   "cell_type": "code",
   "execution_count": 16,
   "metadata": {},
   "outputs": [
    {
     "data": {
      "image/png": "[encoded data removed]",
      "text/plain": [
       "<Figure size 720x288 with 2 Axes>"
      ]
     },
     "metadata": {
      "needs_background": "light"
     },
     "output_type": "display_data"
    }
   ],
   "source": [
    "from pandas import read_csv\n",
    "\n",
    "df = read_csv(\"../data/patients.csv\") \n",
    "\n",
    "df['Weight'] = 0.45*df['Weight']\n",
    "df['Height'] = 2.54*df['Height']\n",
    "\n",
    "y_df = df['Height']\n",
    "data = y_df.to_numpy()\n",
    "\n",
    "size = len(data)\n",
    "\n",
    "sc=StandardScaler() \n",
    "yy = data.reshape (-1,1)\n",
    "sc.fit(yy)\n",
    "data_st =sc.transform(yy)\n",
    "data_st = data_st.flatten()\n",
    "del yy\n",
    "\n",
    "fig, ax = subplots(figsize=(10,4), ncols=2)\n",
    "\n",
    "ax[0].hist(data, bins=10)\n",
    "ax[1].hist(data_st, bins=10)\n",
    "\n",
    "ax[0].set_xlabel('Values')\n",
    "ax[0].set_ylabel('Frequency')\n",
    "ax[1].set_xlabel('Standardised Values')\n",
    "ax[1].set_ylabel('Frequency')\n",
    "\n",
    "fig.suptitle('Height Data Distribution', fontsize=16);\n"
   ]
  },
  {
   "cell_type": "markdown",
   "metadata": {},
   "source": [
    "Now let us repeat the fitting of our three distributions:"
   ]
  },
  {
   "cell_type": "code",
   "execution_count": 18,
   "metadata": {},
   "outputs": [
    {
     "name": "stdout",
     "output_type": "stream",
     "text": [
      "\n",
      "Distributions sorted by goodness of fit:\n",
      "----------------------------------------\n",
      "  Distribution   chi_square  p_value\n",
      "1         norm    22.253261  0.17166\n",
      "2      uniform   534.873841  0.00007\n",
      "0        expon  1120.140011  0.00000\n"
     ]
    }
   ],
   "source": [
    "# Set list of distributions to test\n",
    "# See https://docs.scipy.org/doc/scipy/reference/stats.html for more\n",
    "\n",
    "# Turn off code warnings (this is not recommended for routine use)\n",
    "import warnings\n",
    "warnings.filterwarnings(\"ignore\")\n",
    "\n",
    "# Set up list of candidate distributions to use\n",
    "# See https://docs.scipy.org/doc/scipy/reference/stats.html for more\n",
    "\n",
    "dist_names = [\n",
    "#               'beta',\n",
    "              'expon',\n",
    "#               'gamma',\n",
    "#               'lognorm',\n",
    "              'norm',\n",
    "#               'pearson3',\n",
    "#               'triang',\n",
    "              'uniform',\n",
    "#               'weibull_min', \n",
    "#               'weibull_max'\n",
    "             ]\n",
    "\n",
    "# Set up empty lists to store results\n",
    "chi_square = []\n",
    "p_values = []\n",
    "\n",
    "# Set up bins for chi-square test\n",
    "# Observed data will be approximately evenly distributed across all bins\n",
    "no_bins = 31\n",
    "percentile_bins = linspace(0, 100, no_bins)\n",
    "percentile_cutoffs = percentile(data_st, percentile_bins)\n",
    "observed_frequency, bins = (histogram(data_st, bins=percentile_cutoffs))\n",
    "cum_observed_frequency = cumsum(observed_frequency)\n",
    "\n",
    "# Loop through candidate distributions\n",
    "\n",
    "for distribution in dist_names:\n",
    "    # Set up distribution and get fitted distribution parameters\n",
    "    dist = getattr(scipy.stats, distribution)\n",
    "    param = dist.fit(data_st)\n",
    "    \n",
    "    # Obtain the KS test P statistic, round it to 5 decimal places\n",
    "    p = scipy.stats.kstest(data_st, distribution, args=param)[1]\n",
    "    p = around(p, 5)\n",
    "    p_values.append(p)    \n",
    "    \n",
    "    # Get expected counts in percentile bins\n",
    "    # This is based on a 'cumulative distribution function' (cdf)\n",
    "    cdf_fitted = dist.cdf(percentile_cutoffs, *param[:-2], loc=param[-2], \n",
    "                          scale=param[-1])\n",
    "    expected_frequency = []\n",
    "    for bin in range(len(percentile_bins)-1):\n",
    "        expected_cdf_area = cdf_fitted[bin+1] - cdf_fitted[bin]\n",
    "        expected_frequency.append(expected_cdf_area)\n",
    "    \n",
    "    # calculate chi-squared\n",
    "    expected_frequency = array(expected_frequency) * size\n",
    "    cum_expected_frequency = cumsum(expected_frequency)\n",
    "    ss = sum (((cum_expected_frequency - cum_observed_frequency) ** 2) / cum_observed_frequency)\n",
    "    chi_square.append(ss)\n",
    "        \n",
    "# Collate results and sort by goodness of fit (best at top)\n",
    "\n",
    "results = pd.DataFrame()\n",
    "results['Distribution'] = dist_names\n",
    "results['chi_square'] = chi_square\n",
    "results['p_value'] = p_values\n",
    "results.sort_values(['chi_square'], inplace=True)\n",
    "    \n",
    "# Report results\n",
    "\n",
    "print ('\\nDistributions sorted by goodness of fit:')\n",
    "print ('----------------------------------------')\n",
    "print (results)\n",
    "\n",
    "# # Store distribution parameters in a dataframe (this could also be saved)\n",
    "# dist_parameters = pd.DataFrame()\n",
    "# dist_parameters['Distribution'] = (\n",
    "#         results['Distribution'].iloc[0:number_distributions_to_plot])\n",
    "# dist_parameters['Distribution parameters'] = parameters\n",
    "\n",
    "# # Print parameter results\n",
    "# print ('\\nDistribution parameters:')\n",
    "# print ('------------------------')\n",
    "\n",
    "# for index, row in dist_parameters.iterrows():\n",
    "#     print ('\\nDistribution:', row[0])\n",
    "#     print ('Parameters:', row[1] )"
   ]
  },
  {
   "cell_type": "markdown",
   "metadata": {},
   "source": [
    "Note that the quality of both measures has dropped for the normal distribution.\n",
    "\n",
    "Let us check the fit:"
   ]
  },
  {
   "cell_type": "code",
   "execution_count": 19,
   "metadata": {},
   "outputs": [
    {
     "data": {
      "text/plain": [
       "<matplotlib.legend.Legend at 0x1a24277a90>"
      ]
     },
     "execution_count": 19,
     "metadata": {},
     "output_type": "execute_result"
    },
    {
     "data": {
      "image/png": "[encoded data removed]",
      "text/plain": [
       "<Figure size 432x288 with 1 Axes>"
      ]
     },
     "metadata": {
      "needs_background": "light"
     },
     "output_type": "display_data"
    }
   ],
   "source": [
    "# Divide the observed data into bins for plotting (this can be changed)\n",
    "number_of_bins = 20\n",
    "bin_cutoffs = linspace(percentile(data, 0), percentile(data, 99),number_of_bins)\n",
    "\n",
    "# Create the plot\n",
    "fig, ax = subplots()\n",
    "\n",
    "h = ax.hist(data, bins = bin_cutoffs, color='0.75')\n",
    "lims = ax.get_xlim()\n",
    "\n",
    "# Get the top three distributions from the previous phase\n",
    "number_distributions_to_plot = 3\n",
    "dist_names = results['Distribution'].iloc[0:number_distributions_to_plot]\n",
    "\n",
    "# Create an empty list to store fitted distribution parameters\n",
    "parameters = []\n",
    "\n",
    "# Loop through the distributions ot get line fit and parameters\n",
    "\n",
    "for dist_name in dist_names:\n",
    "    # Set up distribution and store distribution parameters\n",
    "    dist = getattr(scipy.stats, dist_name)\n",
    "    param = dist.fit(data)\n",
    "    parameters.append(param)\n",
    "\n",
    "    x = arange(140, 201)\n",
    "\n",
    "    # Get line for each distribution (and scale to match observed data)\n",
    "    pdf_fitted = dist.pdf(x, *param[:-2], loc=param[-2], scale=param[-1])\n",
    "#    pdf_fitted = dist.pdf(x, *param[:-2], loc=param[-2], scale=param[-1])\n",
    "    scale_pdf = trapz (h[0], h[1][:-1]) / trapz (pdf_fitted, x)\n",
    "    pdf_fitted *= scale_pdf\n",
    "    \n",
    "    # Add the line to the plot\n",
    "    ax.plot(x, pdf_fitted, label=dist_name)\n",
    "\n",
    "    # Set the plot x axis to contain 99% of the data\n",
    "    # This can be removed, but sometimes outlier data makes the plot less clear\n",
    "#    ax.xlim(0, percentile(data_n,99))\n",
    "\n",
    "\n",
    "# Add legend and display plot\n",
    "ax.legend()\n",
    "# plt.show()\n"
   ]
  },
  {
   "cell_type": "markdown",
   "metadata": {},
   "source": [
    "Things are now less clear. It could be that the fit is OK but that the number of samples is too small; or it could be that there is actually more than one distributions drawn in a single graph. In the latter case, unsupervised machine learning might be justified. \n",
    "\n",
    "To improve our test, we now create a more tailored synthetic data set. Normally distributed data are drawn from a Gaussian distribution with specified mean and standard deviation (or variance). We can adjust these parameters based on the mean and standard deviation of our data set."
   ]
  },
  {
   "cell_type": "markdown",
   "metadata": {},
   "source": []
  },
  {
   "cell_type": "code",
   "execution_count": 21,
   "metadata": {},
   "outputs": [
    {
     "data": {
      "image/png": "[encoded data removed]",
      "text/plain": [
       "<Figure size 432x288 with 2 Axes>"
      ]
     },
     "metadata": {
      "needs_background": "light"
     },
     "output_type": "display_data"
    }
   ],
   "source": [
    "no_data_points = len(data)\n",
    "data_mean = mean(data)\n",
    "data_std = std(data)\n",
    "\n",
    "data_n = normal(data_mean, data_std, no_data_points)\n",
    "\n",
    "sc=StandardScaler() \n",
    "\n",
    "temp = data_n.reshape (-1,1)\n",
    "sc.fit(temp)\n",
    "data_n_st =sc.transform(temp)\n",
    "data_n_st = data_n_st.flatten()\n",
    "del temp\n",
    "\n",
    "fig, ax = subplots(ncols=2)\n",
    "\n",
    "ax[0].hist(data, bins=10)\n",
    "ax[1].hist(data_n, bins=10);\n",
    "ax[0].set_title('Original data')\n",
    "ax[1].set_title('Surrogate from normal distribution');\n"
   ]
  },
  {
   "cell_type": "markdown",
   "metadata": {},
   "source": [
    "# Function to fit normal distributions"
   ]
  },
  {
   "cell_type": "code",
   "execution_count": 22,
   "metadata": {},
   "outputs": [],
   "source": [
    "def fit_norm_distributions(data, no_bins):\n",
    "\n",
    "    size = len(data)\n",
    "\n",
    "    # Set list of distributions to test\n",
    "    # See https://docs.scipy.org/doc/scipy/reference/stats.html for more\n",
    "\n",
    "    # Turn off code warnings (this is not recommended for routine use)\n",
    "    import warnings\n",
    "    warnings.filterwarnings(\"ignore\")\n",
    "\n",
    "    # Set up list of candidate distributions to use\n",
    "    # See https://docs.scipy.org/doc/scipy/reference/stats.html for more\n",
    "\n",
    "    dist_names = [\n",
    "    #               'beta',\n",
    "    #               'expon',\n",
    "    #               'gamma',\n",
    "    #               'lognorm',\n",
    "                  'norm',\n",
    "    #               'pearson3',\n",
    "    #               'triang',\n",
    "    #               'uniform',\n",
    "    #               'weibull_min', \n",
    "    #               'weibull_max'\n",
    "                 ]\n",
    "\n",
    "    # Set up empty lists to store results\n",
    "    chi_square = []\n",
    "    p_values = []\n",
    "\n",
    "    # Set up bins for chi-square test\n",
    "    # Observed data will be approximately evenly distributed across all bins\n",
    "    percentile_bins = linspace(0, 100, no_bins)\n",
    "    percentile_cutoffs = percentile(data, percentile_bins)\n",
    "    observed_frequency, bins = (histogram(data, bins=percentile_cutoffs))\n",
    "    cum_observed_frequency = cumsum(observed_frequency)\n",
    "\n",
    "    # Loop through candidate distributions\n",
    "\n",
    "    for distribution in dist_names:\n",
    "        # Set up distribution and get fitted distribution parameters\n",
    "        dist = getattr(scipy.stats, distribution)\n",
    "        param = dist.fit(data)\n",
    "\n",
    "        # Obtain the KS test P statistic, round it to 5 decimal places\n",
    "        p = scipy.stats.kstest(data, distribution, args=param)[1]\n",
    "        p = around(p, 5)\n",
    "        p_values.append(p)    \n",
    "\n",
    "        # Get expected counts in percentile bins\n",
    "        # This is based on a 'cumulative distrubution function' (cdf)\n",
    "        cdf_fitted = dist.cdf(percentile_cutoffs, *param[:-2], loc=param[-2], \n",
    "                              scale=param[-1])\n",
    "        expected_frequency = []\n",
    "        for bin in range(len(percentile_bins)-1):\n",
    "            expected_cdf_area = cdf_fitted[bin+1] - cdf_fitted[bin]\n",
    "            expected_frequency.append(expected_cdf_area)\n",
    "\n",
    "        # calculate chi-squared\n",
    "        expected_frequency = array(expected_frequency) * size\n",
    "        cum_expected_frequency = cumsum(expected_frequency)\n",
    "        ss = sum (((cum_expected_frequency - cum_observed_frequency) ** 2) / cum_observed_frequency)\n",
    "        chi_square.append(ss)\n",
    "\n",
    "    # Collate results and sort by goodness of fit (best at top)\n",
    "\n",
    "    results = pd.DataFrame()\n",
    "    results['Distribution'] = dist_names\n",
    "    results['chi_square'] = chi_square\n",
    "    results['p_value'] = p_values\n",
    "    results.sort_values(['chi_square'], inplace=True)\n",
    "    \n",
    "    return results\n",
    "\n",
    "    # Report results\n",
    "\n",
    "    # # Store distribution parameters in a dataframe (this could also be saved)\n",
    "    # dist_parameters = pd.DataFrame()\n",
    "    # dist_parameters['Distribution'] = (\n",
    "    #         results['Distribution'].iloc[0:number_distributions_to_plot])\n",
    "    # dist_parameters['Distribution parameters'] = parameters\n",
    "\n",
    "    # # Print parameter results\n",
    "    # print ('\\nDistribution parameters:')\n",
    "    # print ('------------------------')\n",
    "\n",
    "    # for index, row in dist_parameters.iterrows():\n",
    "    #     print ('\\nDistribution:', row[0])\n",
    "    #     print ('Parameters:', row[1] )\n"
   ]
  },
  {
   "cell_type": "code",
   "execution_count": 23,
   "metadata": {},
   "outputs": [
    {
     "name": "stdout",
     "output_type": "stream",
     "text": [
      "----------------------------------------\n",
      "p-value of data:  0.17166\n"
     ]
    }
   ],
   "source": [
    "# Results for data:\n",
    "\n",
    "no_bins = 31\n",
    "\n",
    "results = fit_norm_distributions(data_st, no_bins)\n",
    "p_value_data = results['p_value'][0]\n",
    "\n",
    "print ('----------------------------------------')\n",
    "print ('p-value of data: ', p_value_data)\n"
   ]
  },
  {
   "cell_type": "code",
   "execution_count": 26,
   "metadata": {},
   "outputs": [
    {
     "name": "stdout",
     "output_type": "stream",
     "text": [
      "   p-values of data (red) and surrogates (blue): \n"
     ]
    },
    {
     "data": {
      "image/png": "[encoded data removed]",
      "text/plain": [
       "<Figure size 432x288 with 1 Axes>"
      ]
     },
     "metadata": {
      "needs_background": "light"
     },
     "output_type": "display_data"
    }
   ],
   "source": [
    "# Distribution of surrogate data\n",
    "\n",
    "no_surrogates = 100\n",
    "\n",
    "results_p = list()\n",
    "\n",
    "for ind in arange(no_surrogates):\n",
    "\n",
    "    data_n = normal(data_mean, data_std, no_data_points)\n",
    "    sc=StandardScaler()\n",
    "    temp = data_n.reshape (-1,1)\n",
    "    sc.fit(temp)\n",
    "    data_n_st =sc.transform(temp)\n",
    "    data_n_st = data_n_st.flatten()\n",
    "    del temp\n",
    "    \n",
    "    result = fit_norm_distributions(data_n_st, 31)\n",
    "    results_p.append(result['p_value'][0])\n",
    "#     print (': \\nDistributions of data sorted by goodness of fit:')\n",
    "#     print ('----------------------------------------')\n",
    "\n",
    "print('   p-values of data (red) and surrogates (blue): ')\n",
    "#  print ('\\n', results_p)\n",
    "\n",
    "fig, ax = subplots()\n",
    "\n",
    "ax.hist(results_p, bins=20);\n",
    "ax.hist(p_value_data, bins=20, color='r');\n",
    "ax.set_xlim(xmin=0);"
   ]
  },
  {
   "cell_type": "markdown",
   "metadata": {},
   "source": [
    "The p-value for the data is much lower than the p-values of the surrogates. This plot suggests that while the data can be fitted with a normal distribution, they are not compatible with a single distribution. Note, however, that even the samples drawn from a normal distribution can have p-values that are nearly as low as the data. They are just not frequent. Only about a third of the surrogate data produced a distribution that is 100% compatible with the normal distribution. \n",
    "\n",
    "Now have done two checks: first we quantified which distribution might be used to describe the data. A normal distribution looked like an OK fit. Second we analysed whether tha data are compatible with a single normal distribution. It appears that a single normal distribution is not a good interpretation of the data.\n"
   ]
  },
  {
   "cell_type": "markdown",
   "metadata": {},
   "source": [
    "Our conclusion is that we can try to model the data as coming from more than one source while the assumption of normally distributed sources might be valid. \n",
    "\n",
    "One clustering approach that suggests itself frmo these observations is the Gaussian Mixed Models clustering. We assume that there are data mixed frmo ore than one normally distributed groups in the full data set. The clustering will provide us with suggestions to separate the groups. "
   ]
  },
  {
   "cell_type": "code",
   "execution_count": null,
   "metadata": {},
   "outputs": [],
   "source": []
  }
 ],
 "metadata": {
  "kernelspec": {
   "display_name": "Python 3",
   "language": "python",
   "name": "python3"
  },
  "language_info": {
   "codemirror_mode": {
    "name": "ipython",
    "version": 3
   },
   "file_extension": ".py",
   "mimetype": "text/x-python",
   "name": "python",
   "nbconvert_exporter": "python",
   "pygments_lexer": "ipython3",
   "version": "3.7.7"
  }
 },
 "nbformat": 4,
 "nbformat_minor": 4
}
